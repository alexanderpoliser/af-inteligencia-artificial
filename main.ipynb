{
  "cells": [
    {
      "cell_type": "markdown",
      "metadata": {
        "id": "w2ExsELqit2A"
      },
      "source": [
        "<font size=\"6\"><center>Centro Universitário Facens</center></font>\n",
        "<br/>\n",
        "<font size=\"4\"><center><b>Disciplina: Inteligência Artificial</b></center></font>\n",
        "\n",
        "<font size=\"4\"><center><b>Avaliação Final (AF)</b></center></font>\n",
        "\n",
        "<font size=\"3\"><center>Prof. Dr. Renato Moraes Silva</center></font>\n",
        "<br/>"
      ]
    },
    {
      "cell_type": "markdown",
      "source": [
        "<font size=\"4\"><center><b>Integrantes</b></center></font>\n",
        "\n",
        "<font size=\"3\">•Alexander Victor Rodrigues Poliser - 200411 TIN1</font>\n",
        "\n",
        "<font size=\"3\">•Enzo Caíque Chanes Cassemiro - 200394 TIN1</font>\n",
        "\n",
        "<font size=\"3\">•Leonardo Dimarchi Souza da Cruz - 200109 TIN2</font>\n",
        "\n",
        "<font size=\"3\">•Luiz Fernando Toquetto - 200359 TIN2</font>"
      ],
      "metadata": {
        "id": "7GhG8Gk-tXUg"
      }
    },
    {
      "cell_type": "code",
      "execution_count": 1,
      "metadata": {
        "tags": [],
        "id": "hFc3Q878it2M"
      },
      "outputs": [],
      "source": [
        "import numpy as np\n",
        "import pandas as pd\n",
        "import re\n",
        "import os\n",
        "\n",
        "import matplotlib.pyplot as plt\n",
        "\n",
        "from zipfile import ZipFile"
      ]
    },
    {
      "cell_type": "code",
      "execution_count": 2,
      "metadata": {
        "tags": [],
        "id": "b1aeSDA1it2R",
        "colab": {
          "base_uri": "https://localhost:8080/"
        },
        "outputId": "82bc47dd-97ea-412a-ab3b-62995e05352f"
      },
      "outputs": [
        {
          "output_type": "stream",
          "name": "stdout",
          "text": [
            "Processo finalizado.\n"
          ]
        }
      ],
      "source": [
        "import os\n",
        "import subprocess\n",
        "\n",
        "def download(url, path):\n",
        "\n",
        "    cmd = ['wget', '-q', url, '-O', '%s' %(path)]\n",
        "\n",
        "    process = subprocess.Popen(cmd, stdout=subprocess.PIPE, stderr=subprocess.PIPE)\n",
        "\n",
        "    stdout, stderr = process.communicate()\n",
        "\n",
        "    if process.returncode == 0:\n",
        "        print(f'Processo finalizado.')\n",
        "    else:\n",
        "        print(f'Houve um erro: {stderr.decode(\"utf-8\")}')\n",
        "\n",
        "pathFiles = 'data/'\n",
        "\n",
        "if not os.path.isdir(pathFiles):\n",
        "    os.mkdir(pathFiles)\n",
        "\n",
        "url = 'https://www.dropbox.com/scl/fo/2vh6qw9x2ae8zoma7md98/ALGVx_ju4WiPjneRZ68crs8?rlkey=s919cfytsov4bafkvnufmpgwg&e=1&st=qjynn11z&dl=0'\n",
        "pathDataset1 = pathFiles + 'arquivos_competicao.zip'\n",
        "download(url, pathDataset1)"
      ]
    },
    {
      "cell_type": "code",
      "execution_count": 3,
      "metadata": {
        "tags": [],
        "id": "_1psjh1git2W",
        "colab": {
          "base_uri": "https://localhost:8080/"
        },
        "outputId": "52c3725e-4499-444c-9672-af95380d6836"
      },
      "outputs": [
        {
          "output_type": "stream",
          "name": "stdout",
          "text": [
            "Arquivo descompactado com sucesso!\n"
          ]
        }
      ],
      "source": [
        "def unzip(path, pathFolder):\n",
        "\n",
        "    try:\n",
        "        z = ZipFile(path, 'r')\n",
        "        z.extractall(pathFolder)\n",
        "        z.close()\n",
        "\n",
        "        print(\"Arquivo descompactado com sucesso!\")\n",
        "    except:\n",
        "        print(\"Houve um erro ao tentar descompactar o arquivo\")\n",
        "\n",
        "unzip(pathDataset1, pathFiles)"
      ]
    }
  ],
  "metadata": {
    "colab": {
      "provenance": []
    },
    "kernelspec": {
      "display_name": "Python 3 (ipykernel)",
      "language": "python",
      "name": "python3"
    },
    "language_info": {
      "codemirror_mode": {
        "name": "ipython",
        "version": 3
      },
      "file_extension": ".py",
      "mimetype": "text/x-python",
      "name": "python",
      "nbconvert_exporter": "python",
      "pygments_lexer": "ipython3",
      "version": "3.10.9"
    }
  },
  "nbformat": 4,
  "nbformat_minor": 0
}